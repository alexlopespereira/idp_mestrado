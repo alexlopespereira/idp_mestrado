{
  "cells": [
    {
      "cell_type": "markdown",
      "metadata": {
        "colab_type": "text",
        "id": "view-in-github"
      },
      "source": [
        "<a href=\"https://colab.research.google.com/github/alexlopespereira/mba_enap/blob/main/Exercicios/Aula9_Exercicio.ipynb\" target=\"_parent\"><img src=\"https://colab.research.google.com/assets/colab-badge.svg\" alt=\"Open In Colab\"/></a>"
      ]
    },
    {
      "cell_type": "markdown",
      "metadata": {
        "id": "k92_GJC2OwAo"
      },
      "source": [
        "# Aula 9 - Exercício - Agregação com Pandas"
      ]
    },
    {
      "cell_type": "markdown",
      "metadata": {
        "id": "_nJJVge3PVNe"
      },
      "source": [
        "### Documentação do Autograder [Link](https://github.com/alexlopespereira/mba_enap/blob/main/Exercicios/Autograder.ipynb)\n",
        "\n",
        "\n",
        "*   Link para o gabarito das questões\n",
        "*   Imports padrão\n",
        "*   Instalação\n",
        "*   Autenticaçao para nota\n",
        "*   Validação\n",
        "\n",
        "\n"
      ]
    },
    {
      "cell_type": "code",
      "execution_count": null,
      "metadata": {
        "id": "RkNwKAd8kJz5"
      },
      "outputs": [],
      "source": [
        "!pip install --upgrade ipynb_autograde > /dev/null"
      ]
    },
    {
      "cell_type": "code",
      "execution_count": null,
      "metadata": {
        "id": "WxBHNGxie9BB"
      },
      "outputs": [],
      "source": [
        "%env  COURSE=idp_mestrado\n",
        "from ipynb_autograde.main import init_log, validate\n",
        "init_log()\n",
        "email_result=!gcloud config get-value account\n",
        "if not email_result or 'unset' in email_result[0]:\n",
        "  !gcloud auth login"
      ]
    },
    {
      "cell_type": "code",
      "execution_count": null,
      "metadata": {
        "id": "R3jJ85H8OwAr"
      },
      "outputs": [],
      "source": [
        "# Faca o import das bibliotecas\n",
        "import pandas as pd\n",
        "import numpy as np"
      ]
    },
    {
      "cell_type": "markdown",
      "metadata": {
        "id": "ny_zhXxFOwAt"
      },
      "source": [
        "### 9.1 Escreva um prompt de uma função python para carregar os dados de população de 2017 e realizar as operações ilustradas na tabela a seguir. Retorne apenas os top 3 resultados ordenados pela soma.\n",
        "#### **Dica:** Coluna pop2017, e ```reset_index()```\n",
        "\n",
        "#### Entrada: ```'https://github.com/alexlopespereira/mba_enap/raw/refs/heads/main/data/originais/populacao/estimativa_dou_2017.xlsx'```\n",
        "\n",
        "\n",
        "### Resultado esperado: um dataframe igual a esse\n",
        "\n",
        "|    | uf   |      sum |     mean |   median |    std |\n",
        "|---:|:-----|---------:|---------:|---------:|-------:|\n",
        "|  0 | SP   | 45094866 |  69914.5 |    13810 | 489370 |\n",
        "|  1 | MG   | 21119536 |  24759.1 |     8287 | 100604 |\n",
        "|  2 | RJ   | 16718956 | 181728   |    35918 | 693337 |\n"
      ]
    },
    {
      "cell_type": "code",
      "execution_count": null,
      "metadata": {
        "id": "YASOjqDIXkMU"
      },
      "outputs": [],
      "source": [
        "d9_1_1 = 'https://github.com/alexlopespereira/mba_enap/raw/refs/heads/main/data/originais/populacao/estimativa_dou_2017.xlsx'"
      ]
    },
    {
      "cell_type": "code",
      "execution_count": 2,
      "metadata": {
        "id": "2_5dKysMkF4r"
      },
      "outputs": [],
      "source": [
        "##### Faça Seus testes ###\n"
      ]
    },
    {
      "cell_type": "code",
      "execution_count": 1,
      "metadata": {
        "id": "pP-pq8q_SqFI"
      },
      "outputs": [],
      "source": [
        "prompt91 = \"\"\"AQUI\"\"\""
      ]
    },
    {
      "cell_type": "code",
      "execution_count": null,
      "metadata": {
        "id": "euAQ0fkXStP0"
      },
      "outputs": [],
      "source": [
        "validate(prompt91, \"A9-E1\")"
      ]
    },
    {
      "cell_type": "markdown",
      "metadata": {
        "id": "T8bUoRlHS5a3"
      },
      "source": [
        "### 9.2 Escreva um prompt de uma função python para carregar os dados do dataset do Titanic e realizar as operações ilustradas na tabela a seguir.\n",
        "#### **Dica:** Soma e mediana, e ```reset_index()```\n",
        "\n",
        "#### Entrada: ```'https://github.com/alexlopespereira/mba_enap/raw/main/data/originais/titanic/titanic.xls'```\n",
        "\n",
        "\n",
        "### Resultado esperado: um dataframe igual a esse\n",
        "\n",
        "\n",
        "|    |   pclass | sex    |   survived |   fare |\n",
        "|---:|---------:|:-------|-----------:|-------:|\n",
        "|  0 |        1 | female |        139 |   80.9 |\n",
        "|  1 |        1 | male   |         61 |   49.5 |\n",
        "|  2 |        2 | female |         94 |   23   |\n",
        "|  3 |        2 | male   |         25 |   13   |\n",
        "|  4 |        3 | female |        106 |   10.5 |\n",
        "|  5 |        3 | male   |         75 |    7.9 |\n"
      ]
    },
    {
      "cell_type": "code",
      "execution_count": null,
      "metadata": {
        "id": "4qfUCCbhXkMe"
      },
      "outputs": [],
      "source": [
        "d9_2_1 = 'https://github.com/alexlopespereira/mba_enap/raw/main/data/originais/titanic/titanic.xls'"
      ]
    },
    {
      "cell_type": "code",
      "execution_count": null,
      "metadata": {
        "id": "26lGt8NOkSJn"
      },
      "outputs": [],
      "source": [
        "##### Faça Seus testes ###\n"
      ]
    },
    {
      "cell_type": "code",
      "execution_count": null,
      "metadata": {
        "id": "EKq0uHezeU1X"
      },
      "outputs": [],
      "source": [
        "prompt92 = \"\"\"AQUI\"\"\""
      ]
    },
    {
      "cell_type": "code",
      "execution_count": null,
      "metadata": {
        "id": "K2voYQypeEaD"
      },
      "outputs": [],
      "source": [
        "validate(prompt92, \"A9-E2\")"
      ]
    },
    {
      "cell_type": "markdown",
      "metadata": {
        "id": "o65FxFrYOwBF"
      },
      "source": [
        "### 9.3 Escreva uma função para realizar o agrupamento do dataset de mortalidade por UF, codigo ibge e nome do município aplicando a soma sobre as colunas Valor_total, Internações e Dias_permanência. Em seguida calcule, para todos os municípios nesta agregação, o custo médio diário das internações com a fórmula abaixo. Retorne um dataframe com os top 5 municipios segundo o custo médio de internação.\n",
        "#### **Dica:** a uf são os 2 primeiros dígitos do codigo ibge. ```reset_index()```. custo_medio_diario_intern = Valor total /  Dias_permanência\n",
        "#### Entrada: ```'https://github.com/alexlopespereira/mba_enap/raw/refs/heads/main/data/originais/morbidade/consolidado/morbidade.csv'```\n",
        "\n",
        "\n",
        "#### Resultado esperado: um dataframe igual a esse\n",
        "\n",
        "\n",
        "|      |   uf |   cod_ibge6 | Município             |      Valor_total |   Internações |   Dias_permanência |   custo_medio_diario_intern |\n",
        "|-----:|-----:|------------:|:----------------------|-----------------:|--------------:|-------------------:|----------------------------:|\n",
        "| 3967 |   41 |      410400 | Campina Grande do Sul |      3.32947e+07 |          7037 |              29277 |                      1137.2 |\n",
        "| 3864 |   35 |      355365 | Taquaral              | 382405           |           152 |                465 |                       822.4 |\n",
        "| 3685 |   35 |      353715 | Pedrinhas Paulista    | 769964           |           188 |               1004 |                       766.9 |\n",
        "| 3205 |   33 |      330205 | Italva                |      2.39501e+06 |           585 |               3160 |                       757.9 |\n",
        "| 3193 |   33 |      330115 | Cardoso Moreira       |      2.80194e+06 |           740 |               3840 |                       729.7 |"
      ]
    },
    {
      "cell_type": "code",
      "execution_count": null,
      "metadata": {
        "id": "zTC6RbuhXkMm"
      },
      "outputs": [],
      "source": [
        "d9_3_1 = 'https://github.com/alexlopespereira/mba_enap/raw/refs/heads/main/data/originais/morbidade/consolidado/morbidade.csv'"
      ]
    },
    {
      "cell_type": "code",
      "execution_count": null,
      "metadata": {
        "id": "6h0DK42gkVBm"
      },
      "outputs": [],
      "source": [
        "##### Faça Seus testes ###\n"
      ]
    },
    {
      "cell_type": "code",
      "execution_count": null,
      "metadata": {
        "id": "MeYiPepMecVb"
      },
      "outputs": [],
      "source": [
        "prompt93 = \"\"\"AQUI\"\"\""
      ]
    },
    {
      "cell_type": "code",
      "execution_count": null,
      "metadata": {
        "id": "dRJiOiGZeGFd"
      },
      "outputs": [],
      "source": [
        "validate(prompt93, \"A9-E3\")"
      ]
    },
    {
      "cell_type": "markdown",
      "metadata": {
        "id": "gwC_H_9dOwBI"
      },
      "source": [
        "### 9.4 Crie um prompt de uma função python para retornar a soma do Valor_total dos 5 municípios (do exercício anterior) do dataset de Mortalidade (ao longo do período representado no dataset disponibilizado).\n",
        "\n",
        "#### Entradas: ```'https://github.com/alexlopespereira/mba_enap/raw/refs/heads/main/data/originais/morbidade/consolidado/morbidade.csv'``` e ```[\"410400\", \"330115\", \"330205\", \"353715\", \"355365\"]```\n",
        "\n",
        "#### Resultado esperado: um dataframe igual a esse\n",
        "|    | Município             |      Valor_total |\n",
        "|---:|:----------------------|-----------------:|\n",
        "|  0 | Campina Grande do Sul |      33294700.7 |\n",
        "|  1 | Cardoso Moreira       |      2801938.8 |\n",
        "|  2 | Italva                |      2395014.9 |\n",
        "|  3 | Pedrinhas Paulista    | 769964.0           |\n",
        "|  4 | Taquaral              | 382405.0           |\n",
        "\n"
      ]
    },
    {
      "cell_type": "code",
      "execution_count": null,
      "metadata": {
        "id": "GcLNkx4XXkMp"
      },
      "outputs": [],
      "source": [
        "d9_4_1 = 'https://github.com/alexlopespereira/mba_enap/raw/refs/heads/main/data/originais/morbidade/consolidado/morbidade.csv'\n",
        "d9_4_2 = [\"410400\", \"330115\", \"330205\", \"353715\", \"355365\"]"
      ]
    },
    {
      "cell_type": "code",
      "execution_count": null,
      "metadata": {
        "id": "EP7LdUizkV_5"
      },
      "outputs": [],
      "source": [
        "##### Faça Seus testes ###\n"
      ]
    },
    {
      "cell_type": "code",
      "execution_count": null,
      "metadata": {
        "id": "xi6OzCcqepnc"
      },
      "outputs": [],
      "source": [
        "prompt94 = \"\"\"AQUI\"\"\""
      ]
    },
    {
      "cell_type": "code",
      "execution_count": null,
      "metadata": {
        "id": "zX0QjdxdeITJ"
      },
      "outputs": [],
      "source": [
        "validate(prompt94, \"A9-E4\")"
      ]
    },
    {
      "cell_type": "markdown",
      "metadata": {
        "id": "9cTqrAw0IXaY"
      },
      "source": [
        "### Exercício de Reflexão (Facultativo)\n",
        "#### Você aprendeu alguma coisa que pode ser reaproveitado em outros problemas?\n",
        "#### Como você pode melhorar seu processo de elaboração de requisitos / prompts?\n",
        "#### Você notou ambiguidade na sua especificação inicial?"
      ]
    },
    {
      "cell_type": "code",
      "execution_count": null,
      "metadata": {
        "id": "Y9yjEmHV2nKi"
      },
      "outputs": [],
      "source": [
        "resposta=\"\"\"AQUI\"\"\""
      ]
    },
    {
      "cell_type": "code",
      "execution_count": null,
      "metadata": {
        "id": "yLXjtjQaK6V1"
      },
      "outputs": [],
      "source": [
        "validate(resposta, \"A9-R1\")"
      ]
    },
    {
      "cell_type": "code",
      "execution_count": null,
      "metadata": {
        "id": "GQ9hcuF9MfJR"
      },
      "outputs": [],
      "source": []
    }
  ],
  "metadata": {
    "celltoolbar": "Create Assignment",
    "colab": {
      "include_colab_link": true,
      "provenance": []
    },
    "kernelspec": {
      "display_name": "Python 3",
      "language": "python",
      "name": "python3"
    },
    "language_info": {
      "codemirror_mode": {
        "name": "ipython",
        "version": 3
      },
      "file_extension": ".py",
      "mimetype": "text/x-python",
      "name": "python",
      "nbconvert_exporter": "python",
      "pygments_lexer": "ipython3",
      "version": "3.8.3"
    },
    "name": "_merged",
    "varInspector": {
      "cols": {
        "lenName": 16,
        "lenType": 16,
        "lenVar": 40
      },
      "kernels_config": {
        "python": {
          "delete_cmd_postfix": "",
          "delete_cmd_prefix": "del ",
          "library": "var_list.py",
          "varRefreshCmd": "print(var_dic_list())"
        },
        "r": {
          "delete_cmd_postfix": ") ",
          "delete_cmd_prefix": "rm(",
          "library": "var_list.r",
          "varRefreshCmd": "cat(var_dic_list()) "
        }
      },
      "types_to_exclude": [
        "module",
        "function",
        "builtin_function_or_method",
        "instance",
        "_Feature"
      ],
      "window_display": false
    }
  },
  "nbformat": 4,
  "nbformat_minor": 0
}
